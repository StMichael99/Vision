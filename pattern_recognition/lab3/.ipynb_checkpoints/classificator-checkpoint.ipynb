{
 "cells": [
  {
   "cell_type": "code",
   "execution_count": 1,
   "metadata": {},
   "outputs": [],
   "source": [
    "import numpy as np\n",
    "import pandas as pd\n",
    "import matplotlib.pyplot as plt\n",
    "import cv2\n",
    "import os"
   ]
  },
  {
   "cell_type": "code",
   "execution_count": 2,
   "metadata": {},
   "outputs": [],
   "source": [
    "# имена папок. они же - имена классов.\n",
    "labels=['karabin','hryvnia','stepler','trash']\n",
    "#извлекаем списки файлов для каждой папки.\n",
    "filelists={}\n",
    "for i in labels:\n",
    "    filelists[i]=os.listdir(i)"
   ]
  },
  {
   "cell_type": "code",
   "execution_count": 3,
   "metadata": {},
   "outputs": [],
   "source": [
    "dataset=dict()\n",
    "des_list=['orb','sift','brisk']\n",
    "for i in des_list:\n",
    "    dataset[i]=pd.read_csv(f\"{i}_dataset.csv\")"
   ]
  },
  {
   "cell_type": "code",
   "execution_count": 4,
   "metadata": {},
   "outputs": [],
   "source": [
    "X_train=dict()\n",
    "y_train=dict()\n",
    "X_test=dict()\n",
    "y_test=dict()\n",
    "\n",
    "from sklearn.model_selection import train_test_split\n",
    "for i in des_list:\n",
    "    temp=dataset[i].drop(columns=['pathname'])\n",
    "    X_train[i], X_test[i], \\\n",
    "    y_train[i], y_test[i]=train_test_split(temp.drop(columns=['target']),temp['target'], \\\n",
    "                                           test_size=0.2, random_state=0,stratify=temp['target'])"
   ]
  },
  {
   "cell_type": "code",
   "execution_count": 5,
   "metadata": {},
   "outputs": [
    {
     "name": "stdout",
     "output_type": "stream",
     "text": [
      "orb:\n",
      "['hryvnia' 'karabin' 'stepler' 'trash']\n",
      "Common accuracy: 0.56566 \n",
      "Precision:[0.55556 0.75    0.59259 0.4    ]\n",
      "Recall:[0.83333 0.45    0.55172 0.3    ]\n",
      "\n",
      "\n",
      "sift:\n",
      "['hryvnia' 'karabin' 'stepler' 'trash']\n",
      "Common accuracy: 0.55556 \n",
      "Precision:[0.54545 0.66667 0.59091 0.4    ]\n",
      "Recall:[0.8     0.6     0.44828 0.3    ]\n",
      "\n",
      "\n",
      "brisk:\n",
      "['hryvnia' 'karabin' 'stepler' 'trash']\n",
      "Common accuracy: 0.56122 \n",
      "Precision:[0.61765 0.57895 0.54839 0.42857]\n",
      "Recall:[0.72414 0.55    0.58621 0.3    ]\n",
      "\n",
      "\n"
     ]
    }
   ],
   "source": [
    "from sklearn.linear_model import LogisticRegression\n",
    "from sklearn.metrics import *\n",
    "pred=dict()\n",
    "from joblib import dump, load\n",
    "\n",
    "for i in des_list:\n",
    "    clf=LogisticRegression(solver='newton-cg')\n",
    "    clf.fit(X_train[i], y_train[i])\n",
    "    from joblib import dump, load\n",
    "    pred[i]=clf.predict(X_test[i])\n",
    "    print(f\"{i}:\")\n",
    "    print(clf.classes_)\n",
    "    print(f\"Common accuracy: {np.round( accuracy_score(y_test[i],pred[i]), 5)} \"   )\n",
    "    print(f\"Precision:{np.round( precision_score(y_test[i],pred[i],average=None) , 5) }\")\n",
    "    print(f\"Recall:{np.round( recall_score(y_test[i],pred[i],average=None), 5) }\" )\n",
    "    print(\"\\n\")\n",
    "    \n",
    "    dump(clf, f'written_models/{i}_logreg.joblib') "
   ]
  },
  {
   "cell_type": "code",
   "execution_count": null,
   "metadata": {},
   "outputs": [],
   "source": [
    "from sklearn.svm import SVC\n",
    "from sklearn.metrics import *\n",
    "pred=dict()\n",
    "\n",
    "for i in des_list:\n",
    "    clf=SVC(kernel='linear',C=100)\n",
    "    clf.fit(X_train[i], y_train[i])\n",
    "    pred[i]=clf.predict(X_test[i])\n",
    "    print(f\"{i}:\")\n",
    "    print(clf.classes_)\n",
    "    print(f\"Common accuracy: {np.round( accuracy_score(y_test[i],pred[i]), 5) } \"   )\n",
    "    print(f\"Precision:{np.round( precision_score(y_test[i],pred[i],average=None), 5) }\")\n",
    "    print(f\"Recall:{np.round(recall_score(y_test[i],pred[i],average=None),5) }\" )\n",
    "    print(\"\\n\")\n",
    "    \n",
    "    dump(clf, f'written_models/{i}_svm.joblib')"
   ]
  },
  {
   "cell_type": "code",
   "execution_count": 10,
   "metadata": {},
   "outputs": [
    {
     "name": "stdout",
     "output_type": "stream",
     "text": [
      "orb:\n",
      "['hryvnia' 'karabin' 'stepler' 'trash']\n",
      "Common accuracy: 0.59596 \n",
      "Precision:[0.58696 0.75    0.54286 0.66667]\n",
      "Recall:[0.9     0.45    0.65517 0.2    ]\n",
      "\n",
      "\n",
      "sift:\n",
      "['hryvnia' 'karabin' 'stepler' 'trash']\n",
      "Common accuracy: 0.67677 \n",
      "Precision:[0.675   0.65    0.64516 0.875  ]\n",
      "Recall:[0.9     0.65    0.68966 0.35   ]\n",
      "\n",
      "\n",
      "brisk:\n",
      "['hryvnia' 'karabin' 'stepler' 'trash']\n",
      "Common accuracy: 0.60204 \n",
      "Precision:[0.54762 0.64286 0.6     0.85714]\n",
      "Recall:[0.7931  0.45    0.72414 0.3    ]\n",
      "\n",
      "\n"
     ]
    }
   ],
   "source": [
    "#from sklearn.linear_model import LogisticRegression\n",
    "from sklearn.ensemble import RandomForestClassifier\n",
    "from sklearn.metrics import *\n",
    "pred=dict()\n",
    "\n",
    "for i in des_list:\n",
    "    clf=RandomForestClassifier(n_estimators=500)\n",
    "    clf.fit(X_train[i], y_train[i])\n",
    "    pred[i]=clf.predict(X_test[i])\n",
    "    print(f\"{i}:\")\n",
    "    print(clf.classes_)\n",
    "    print(f\"Common accuracy: {np.round( accuracy_score(y_test[i],pred[i]),5)} \"   )\n",
    "    print(f\"Precision:{np.round(precision_score(y_test[i],pred[i],average=None),5)}\")\n",
    "    print(f\"Recall:{np.round(recall_score(y_test[i],pred[i],average=None),5)}\" )\n",
    "    print(\"\\n\")\n",
    "    \n",
    "    dump(clf, f'written_models/{i}_randomforest.joblib')"
   ]
  }
 ],
 "metadata": {
  "kernelspec": {
   "display_name": "Python 3",
   "language": "python",
   "name": "python3"
  },
  "language_info": {
   "codemirror_mode": {
    "name": "ipython",
    "version": 3
   },
   "file_extension": ".py",
   "mimetype": "text/x-python",
   "name": "python",
   "nbconvert_exporter": "python",
   "pygments_lexer": "ipython3",
   "version": "3.8.5"
  }
 },
 "nbformat": 4,
 "nbformat_minor": 4
}
