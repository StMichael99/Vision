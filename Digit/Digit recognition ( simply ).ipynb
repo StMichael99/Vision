{
 "cells": [
  {
   "cell_type": "code",
   "execution_count": 1,
   "metadata": {},
   "outputs": [],
   "source": [
    "from tensorflow.keras.datasets import mnist\n",
    "from tensorflow.keras.layers import Dense\n",
    "from tensorflow.keras.models import Sequential\n",
    "from tensorflow.keras import utils\n",
    "from tensorflow.keras.preprocessing import image\n",
    "import numpy as np\n",
    "import matplotlib.pyplot as plt\n",
    "from PIL import Image\n",
    "%matplotlib inline\n",
    "\n",
    "import warnings\n",
    "warnings.filterwarnings(\"ignore\")"
   ]
  },
  {
   "cell_type": "code",
   "execution_count": 2,
   "metadata": {},
   "outputs": [],
   "source": [
    "(X_train, y_train), (X_test, y_test) = mnist.load_data()"
   ]
  },
  {
   "cell_type": "code",
   "execution_count": 3,
   "metadata": {},
   "outputs": [
    {
     "data": {
      "image/png": "[encoded data removed]",
      "text/plain": [
       "<Figure size 432x288 with 1 Axes>"
      ]
     },
     "metadata": {
      "needs_background": "light"
     },
     "output_type": "display_data"
    }
   ],
   "source": [
    "plt.imshow(Image.fromarray(X_train[2]).convert('RGBA'))\n",
    "plt.show()"
   ]
  },
  {
   "cell_type": "markdown",
   "metadata": {},
   "source": [
    "#### Преобразование размерности данных в наборе + нормализация + one hot encoding"
   ]
  },
  {
   "cell_type": "code",
   "execution_count": 4,
   "metadata": {},
   "outputs": [],
   "source": [
    "X_train = X_train.reshape(X_train.shape[0], X_train.shape[1]*X_train.shape[2])\n",
    "X_test1 = X_test.reshape(X_test.shape[0], X_test.shape[1]*X_test.shape[2])\n",
    "\n",
    "X_train = X_train.astype('float32')\n",
    "X_train = X_train / 255\n",
    "\n",
    "X_test1 = X_test1.astype('float32')\n",
    "X_test1 = X_test1 / 255\n",
    "\n",
    "y_train = utils.to_categorical(y_train, 10)"
   ]
  },
  {
   "cell_type": "code",
   "execution_count": 5,
   "metadata": {},
   "outputs": [
    {
     "name": "stdout",
     "output_type": "stream",
     "text": [
      "Model: \"sequential\"\n",
      "_________________________________________________________________\n",
      "Layer (type)                 Output Shape              Param #   \n",
      "=================================================================\n",
      "dense (Dense)                (None, 800)               628000    \n",
      "_________________________________________________________________\n",
      "dense_1 (Dense)              (None, 10)                8010      \n",
      "=================================================================\n",
      "Total params: 636,010\n",
      "Trainable params: 636,010\n",
      "Non-trainable params: 0\n",
      "_________________________________________________________________\n"
     ]
    }
   ],
   "source": [
    "model = Sequential()\n",
    "\n",
    "# Входной полносвязный слой, 800 нейронов, 784 входа в каждый нейрон\n",
    "model.add(Dense(800, input_dim=784, activation=\"relu\"))\n",
    "# Выходной полносвязный слой, 10 нейронов (по количеству рукописных цифр)\n",
    "model.add(Dense(10, activation=\"softmax\"))\n",
    "model.compile(loss=\"categorical_crossentropy\", optimizer=\"adam\", metrics=[\"accuracy\"])\n",
    "\n",
    "model.summary()"
   ]
  },
  {
   "cell_type": "code",
   "execution_count": 6,
   "metadata": {},
   "outputs": [
    {
     "name": "stdout",
     "output_type": "stream",
     "text": [
      "Epoch 1/20\n",
      "300/300 [==============================] - 3s 9ms/step - loss: 0.2742 - accuracy: 0.9221\n",
      "Epoch 2/20\n",
      "300/300 [==============================] - 3s 9ms/step - loss: 0.1108 - accuracy: 0.9680\n",
      "Epoch 3/20\n",
      "300/300 [==============================] - 3s 9ms/step - loss: 0.0716 - accuracy: 0.9793\n",
      "Epoch 4/20\n",
      "300/300 [==============================] - 3s 9ms/step - loss: 0.0510 - accuracy: 0.9849\n",
      "Epoch 5/20\n",
      "300/300 [==============================] - 3s 9ms/step - loss: 0.0367 - accuracy: 0.9891\n",
      "Epoch 6/20\n",
      "300/300 [==============================] - 3s 11ms/step - loss: 0.0274 - accuracy: 0.9927\n",
      "Epoch 7/20\n",
      "300/300 [==============================] - 3s 9ms/step - loss: 0.0195 - accuracy: 0.9950\n",
      "Epoch 8/20\n",
      "300/300 [==============================] - 3s 9ms/step - loss: 0.0145 - accuracy: 0.9967\n",
      "Epoch 9/20\n",
      "300/300 [==============================] - 3s 10ms/step - loss: 0.0116 - accuracy: 0.9974\n",
      "Epoch 10/20\n",
      "300/300 [==============================] - 3s 9ms/step - loss: 0.0079 - accuracy: 0.9986\n",
      "Epoch 11/20\n",
      "300/300 [==============================] - 3s 9ms/step - loss: 0.0063 - accuracy: 0.9989\n",
      "Epoch 12/20\n",
      "300/300 [==============================] - 3s 8ms/step - loss: 0.0057 - accuracy: 0.9990\n",
      "Epoch 13/20\n",
      "300/300 [==============================] - 3s 9ms/step - loss: 0.0054 - accuracy: 0.9990\n",
      "Epoch 14/20\n",
      "300/300 [==============================] - 2s 8ms/step - loss: 0.0044 - accuracy: 0.9993\n",
      "Epoch 15/20\n",
      "300/300 [==============================] - 3s 9ms/step - loss: 0.0078 - accuracy: 0.9977\n",
      "Epoch 16/20\n",
      "300/300 [==============================] - 2s 8ms/step - loss: 0.0084 - accuracy: 0.9979\n",
      "Epoch 17/20\n",
      "300/300 [==============================] - 3s 8ms/step - loss: 0.0053 - accuracy: 0.9987\n",
      "Epoch 18/20\n",
      "300/300 [==============================] - 2s 8ms/step - loss: 0.0018 - accuracy: 0.9997\n",
      "Epoch 19/20\n",
      "300/300 [==============================] - 2s 8ms/step - loss: 9.1060e-04 - accuracy: 0.9999\n",
      "Epoch 20/20\n",
      "300/300 [==============================] - 2s 8ms/step - loss: 3.7592e-04 - accuracy: 1.0000\n"
     ]
    },
    {
     "data": {
      "text/plain": [
       "<tensorflow.python.keras.callbacks.History at 0x1d1ba883a30>"
      ]
     },
     "execution_count": 6,
     "metadata": {},
     "output_type": "execute_result"
    }
   ],
   "source": [
    "model.fit(X_train, y_train, batch_size=200, epochs=20,  verbose=1)\n"
   ]
  },
  {
   "cell_type": "code",
   "execution_count": 10,
   "metadata": {},
   "outputs": [
    {
     "data": {
      "text/plain": [
       "array([7, 2, 1, ..., 4, 5, 6], dtype=int64)"
      ]
     },
     "execution_count": 10,
     "metadata": {},
     "output_type": "execute_result"
    }
   ],
   "source": [
    "prediction = model.predict(X_test1)\n",
    "y = np.argmax(prediction, axis=1)\n",
    "y"
   ]
  },
  {
   "cell_type": "code",
   "execution_count": 11,
   "metadata": {},
   "outputs": [
    {
     "data": {
      "image/png": "[encoded data removed]",
      "text/plain": [
       "<Figure size 432x288 with 1 Axes>"
      ]
     },
     "metadata": {
      "needs_background": "light"
     },
     "output_type": "display_data"
    }
   ],
   "source": [
    "plt.imshow(Image.fromarray(X_test[0]).convert('RGBA'))\n",
    "plt.show()"
   ]
  },
  {
   "cell_type": "code",
   "execution_count": null,
   "metadata": {},
   "outputs": [],
   "source": []
  }
 ],
 "metadata": {
  "kernelspec": {
   "display_name": "Python 3",
   "language": "python",
   "name": "python3"
  },
  "language_info": {
   "codemirror_mode": {
    "name": "ipython",
    "version": 3
   },
   "file_extension": ".py",
   "mimetype": "text/x-python",
   "name": "python",
   "nbconvert_exporter": "python",
   "pygments_lexer": "ipython3",
   "version": "3.8.3"
  }
 },
 "nbformat": 4,
 "nbformat_minor": 4
}
